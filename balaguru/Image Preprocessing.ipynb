{
 "cells": [
  {
   "cell_type": "code",
   "execution_count": 9,
   "id": "00324038",
   "metadata": {},
   "outputs": [],
   "source": [
    "from keras.preprocessing.image import ImageDataGenerator"
   ]
  },
  {
   "cell_type": "code",
   "execution_count": 10,
   "id": "8bb7e3da",
   "metadata": {},
   "outputs": [],
   "source": [
    "train_datagen = ImageDataGenerator (rescale=1./255, shear_range=0.2,zoom_range=0.2, horizontal_flip=True)\n",
    "test_datagen=ImageDataGenerator(rescale=1./255)"
   ]
  },
  {
   "cell_type": "code",
   "execution_count": 3,
   "id": "63f98171",
   "metadata": {},
   "outputs": [
    {
     "ename": "NameError",
     "evalue": "name 'train_datagen' is not defined",
     "output_type": "error",
     "traceback": [
      "\u001b[1;31m---------------------------------------------------------------------------\u001b[0m",
      "\u001b[1;31mNameError\u001b[0m                                 Traceback (most recent call last)",
      "\u001b[1;32m~\\AppData\\Local\\Temp\\ipykernel_12380\\2021871581.py\u001b[0m in \u001b[0;36m<module>\u001b[1;34m\u001b[0m\n\u001b[1;32m----> 1\u001b[1;33m \u001b[0mx_train\u001b[0m \u001b[1;33m=\u001b[0m \u001b[0mtrain_datagen\u001b[0m\u001b[1;33m.\u001b[0m\u001b[0mflow_from_directory\u001b[0m\u001b[1;33m(\u001b[0m\u001b[1;34mr'C:\\Users\\HP\\Downloads\\Python\\train'\u001b[0m\u001b[1;33m,\u001b[0m\u001b[0mtarget_size\u001b[0m\u001b[1;33m=\u001b[0m\u001b[1;33m(\u001b[0m\u001b[1;36m64\u001b[0m\u001b[1;33m,\u001b[0m \u001b[1;36m64\u001b[0m\u001b[1;33m)\u001b[0m\u001b[1;33m,\u001b[0m \u001b[0mbatch_size\u001b[0m\u001b[1;33m=\u001b[0m\u001b[1;36m32\u001b[0m\u001b[1;33m,\u001b[0m \u001b[0mcolor_mode\u001b[0m\u001b[1;33m=\u001b[0m\u001b[1;34m'grayscale'\u001b[0m\u001b[1;33m,\u001b[0m\u001b[0mclass_mode\u001b[0m\u001b[1;33m=\u001b[0m\u001b[1;34m'categorical'\u001b[0m\u001b[1;33m)\u001b[0m\u001b[1;33m\u001b[0m\u001b[1;33m\u001b[0m\u001b[0m\n\u001b[0m\u001b[0;32m      2\u001b[0m \u001b[0mx_test\u001b[0m \u001b[1;33m=\u001b[0m \u001b[0mtest_datagen\u001b[0m\u001b[1;33m.\u001b[0m\u001b[0mflow_from_directory\u001b[0m\u001b[1;33m(\u001b[0m\u001b[1;34mr'C:\\Users\\HP\\Downloads\\Python\\test'\u001b[0m\u001b[1;33m,\u001b[0m\u001b[0mtarget_size\u001b[0m\u001b[1;33m=\u001b[0m\u001b[1;33m(\u001b[0m\u001b[1;36m64\u001b[0m\u001b[1;33m,\u001b[0m \u001b[1;36m64\u001b[0m\u001b[1;33m)\u001b[0m\u001b[1;33m,\u001b[0m \u001b[0mbatch_size\u001b[0m\u001b[1;33m=\u001b[0m\u001b[1;36m32\u001b[0m\u001b[1;33m,\u001b[0m \u001b[0mcolor_mode\u001b[0m\u001b[1;33m=\u001b[0m\u001b[1;34m'grayscale'\u001b[0m\u001b[1;33m,\u001b[0m \u001b[0mclass_mode\u001b[0m\u001b[1;33m=\u001b[0m\u001b[1;34m'categorical'\u001b[0m\u001b[1;33m)\u001b[0m\u001b[1;33m\u001b[0m\u001b[1;33m\u001b[0m\u001b[0m\n",
      "\u001b[1;31mNameError\u001b[0m: name 'train_datagen' is not defined"
     ]
    }
   ],
   "source": [
    "x_train = train_datagen.flow_from_directory(r'C:\\Users\\HP\\Downloads\\Python\\train',target_size=(64, 64), batch_size=32, color_mode='grayscale',class_mode='categorical')\n",
    "x_test = test_datagen.flow_from_directory(r'C:\\Users\\HP\\Downloads\\Python\\test',target_size=(64, 64), batch_size=32, color_mode='grayscale', class_mode='categorical')"
   ]
  },
  {
   "cell_type": "code",
   "execution_count": 12,
   "id": "9c864f1c",
   "metadata": {},
   "outputs": [],
   "source": [
    "import numpy as np\n",
    "import tensorflow\n",
    "from tensorflow.keras.models import Sequential\n",
    "from tensorflow.keras import layers\n",
    "from tensorflow.keras.layers import Dense, Flatten\n",
    "from tensorflow.keras.layers import Conv2D, MaxPooling2D\n",
    "from keras.preprocessing.image import ImageDataGenerator"
   ]
  },
  {
   "cell_type": "code",
   "execution_count": 13,
   "id": "3780c2cc",
   "metadata": {},
   "outputs": [],
   "source": [
    "model=Sequential()"
   ]
  },
  {
   "cell_type": "code",
   "execution_count": 12,
   "id": "8dac736b",
   "metadata": {},
   "outputs": [],
   "source": [
    "# First convolution Layer and pooling\n",
    "model.add(Conv2D(32, (3, 3), input_shape=(64, 64, 1), activation='relu')) \n",
    "model.add(MaxPooling2D(pool_size=(2, 2)))\n",
    "# Second convolution Layer and pooling\n",
    "model.add(Conv2D(32, (3, 3), activation='relu'))\n",
    "# input_shape is going to be the pooled feature maps from the previous convolution layer\n",
    "model.add(MaxPooling2D(pool_size=(2, 2)))\n",
    "# Flattening the layers\n",
    "model.add(Flatten())"
   ]
  },
  {
   "cell_type": "code",
   "execution_count": 13,
   "id": "1c571d77",
   "metadata": {},
   "outputs": [],
   "source": [
    "model.add(Dense (units=128, activation='relu')) \n",
    "model.add(Dense (units=6, activation='softmax')) # softmax for more than 2"
   ]
  },
  {
   "cell_type": "code",
   "execution_count": 14,
   "id": "b0d4f76d",
   "metadata": {},
   "outputs": [
    {
     "name": "stdout",
     "output_type": "stream",
     "text": [
      "Model: \"sequential_2\"\n",
      "_________________________________________________________________\n",
      " Layer (type)                Output Shape              Param #   \n",
      "=================================================================\n",
      " conv2d (Conv2D)             (None, 62, 62, 32)        320       \n",
      "                                                                 \n",
      " max_pooling2d (MaxPooling2D  (None, 31, 31, 32)       0         \n",
      " )                                                               \n",
      "                                                                 \n",
      " conv2d_1 (Conv2D)           (None, 29, 29, 32)        9248      \n",
      "                                                                 \n",
      " max_pooling2d_1 (MaxPooling  (None, 14, 14, 32)       0         \n",
      " 2D)                                                             \n",
      "                                                                 \n",
      " flatten (Flatten)           (None, 6272)              0         \n",
      "                                                                 \n",
      " dense (Dense)               (None, 128)               802944    \n",
      "                                                                 \n",
      " dense_1 (Dense)             (None, 6)                 774       \n",
      "                                                                 \n",
      "=================================================================\n",
      "Total params: 813,286\n",
      "Trainable params: 813,286\n",
      "Non-trainable params: 0\n",
      "_________________________________________________________________\n"
     ]
    }
   ],
   "source": [
    "model.summary()"
   ]
  },
  {
   "cell_type": "code",
   "execution_count": 15,
   "id": "e42c56e8",
   "metadata": {},
   "outputs": [],
   "source": [
    "model.add(Dense (units=128, activation='relu')) \n",
    "model.add(Dense (units=6, activation='softmax')) # softmax for more than 2"
   ]
  },
  {
   "cell_type": "code",
   "execution_count": 16,
   "id": "3e035327",
   "metadata": {},
   "outputs": [
    {
     "name": "stdout",
     "output_type": "stream",
     "text": [
      "Model: \"sequential_2\"\n",
      "_________________________________________________________________\n",
      " Layer (type)                Output Shape              Param #   \n",
      "=================================================================\n",
      " conv2d (Conv2D)             (None, 62, 62, 32)        320       \n",
      "                                                                 \n",
      " max_pooling2d (MaxPooling2D  (None, 31, 31, 32)       0         \n",
      " )                                                               \n",
      "                                                                 \n",
      " conv2d_1 (Conv2D)           (None, 29, 29, 32)        9248      \n",
      "                                                                 \n",
      " max_pooling2d_1 (MaxPooling  (None, 14, 14, 32)       0         \n",
      " 2D)                                                             \n",
      "                                                                 \n",
      " flatten (Flatten)           (None, 6272)              0         \n",
      "                                                                 \n",
      " dense (Dense)               (None, 128)               802944    \n",
      "                                                                 \n",
      " dense_1 (Dense)             (None, 6)                 774       \n",
      "                                                                 \n",
      " dense_2 (Dense)             (None, 128)               896       \n",
      "                                                                 \n",
      " dense_3 (Dense)             (None, 6)                 774       \n",
      "                                                                 \n",
      "=================================================================\n",
      "Total params: 814,956\n",
      "Trainable params: 814,956\n",
      "Non-trainable params: 0\n",
      "_________________________________________________________________\n"
     ]
    }
   ],
   "source": [
    "model.summary()"
   ]
  },
  {
   "cell_type": "code",
   "execution_count": 17,
   "id": "4a061206",
   "metadata": {},
   "outputs": [],
   "source": [
    "model.compile(optimizer='adam', loss='categorical_crossentropy', metrics=['accuracy'])"
   ]
  },
  {
   "cell_type": "code",
   "execution_count": 18,
   "id": "838ed504",
   "metadata": {},
   "outputs": [
    {
     "name": "stderr",
     "output_type": "stream",
     "text": [
      "C:\\Users\\Sneha\\AppData\\Local\\Temp/ipykernel_13000/538319779.py:1: UserWarning: `Model.fit_generator` is deprecated and will be removed in a future version. Please use `Model.fit`, which supports generators.\n",
      "  model.fit_generator(\n"
     ]
    },
    {
     "name": "stdout",
     "output_type": "stream",
     "text": [
      "Epoch 1/20\n",
      "19/19 [==============================] - 3s 109ms/step - loss: 1.7889 - accuracy: 0.1465 - val_loss: 1.7677 - val_accuracy: 0.2667\n",
      "Epoch 2/20\n",
      "19/19 [==============================] - 2s 94ms/step - loss: 1.7355 - accuracy: 0.3754 - val_loss: 1.6505 - val_accuracy: 0.5000\n",
      "Epoch 3/20\n",
      "19/19 [==============================] - 2s 95ms/step - loss: 1.6281 - accuracy: 0.4781 - val_loss: 1.4793 - val_accuracy: 0.6667\n",
      "Epoch 4/20\n",
      "19/19 [==============================] - 2s 111ms/step - loss: 1.4364 - accuracy: 0.6010 - val_loss: 1.3109 - val_accuracy: 0.6667\n",
      "Epoch 5/20\n",
      "19/19 [==============================] - 2s 110ms/step - loss: 1.2129 - accuracy: 0.6212 - val_loss: 1.1137 - val_accuracy: 0.6333\n",
      "Epoch 6/20\n",
      "19/19 [==============================] - 2s 89ms/step - loss: 1.0169 - accuracy: 0.6717 - val_loss: 0.9531 - val_accuracy: 0.7333\n",
      "Epoch 7/20\n",
      "19/19 [==============================] - 2s 106ms/step - loss: 0.8759 - accuracy: 0.6902 - val_loss: 1.1347 - val_accuracy: 0.5333\n",
      "Epoch 8/20\n",
      "19/19 [==============================] - 4s 202ms/step - loss: 0.7931 - accuracy: 0.7037 - val_loss: 0.7772 - val_accuracy: 0.7333\n",
      "Epoch 9/20\n",
      "19/19 [==============================] - 3s 153ms/step - loss: 0.7748 - accuracy: 0.6987 - val_loss: 0.7110 - val_accuracy: 0.6333\n",
      "Epoch 10/20\n",
      "19/19 [==============================] - 4s 213ms/step - loss: 0.6784 - accuracy: 0.7525 - val_loss: 0.8253 - val_accuracy: 0.6667\n",
      "Epoch 11/20\n",
      "19/19 [==============================] - 2s 119ms/step - loss: 0.6278 - accuracy: 0.7475 - val_loss: 1.0746 - val_accuracy: 0.5667\n",
      "Epoch 12/20\n",
      "19/19 [==============================] - 3s 147ms/step - loss: 0.6109 - accuracy: 0.7424 - val_loss: 1.0218 - val_accuracy: 0.6333\n",
      "Epoch 13/20\n",
      "19/19 [==============================] - 3s 130ms/step - loss: 0.5698 - accuracy: 0.7609 - val_loss: 1.0291 - val_accuracy: 0.6000\n",
      "Epoch 14/20\n",
      "19/19 [==============================] - 3s 152ms/step - loss: 0.5912 - accuracy: 0.7593 - val_loss: 0.6618 - val_accuracy: 0.6333\n",
      "Epoch 15/20\n",
      "19/19 [==============================] - 3s 150ms/step - loss: 0.5377 - accuracy: 0.7761 - val_loss: 0.7837 - val_accuracy: 0.6333\n",
      "Epoch 16/20\n",
      "19/19 [==============================] - 3s 143ms/step - loss: 0.4948 - accuracy: 0.8098 - val_loss: 0.7226 - val_accuracy: 0.6667\n",
      "Epoch 17/20\n",
      "19/19 [==============================] - 2s 129ms/step - loss: 0.4550 - accuracy: 0.8434 - val_loss: 0.7160 - val_accuracy: 0.6667\n",
      "Epoch 18/20\n",
      "19/19 [==============================] - 2s 113ms/step - loss: 0.4291 - accuracy: 0.8552 - val_loss: 0.7617 - val_accuracy: 0.6333\n",
      "Epoch 19/20\n",
      "19/19 [==============================] - 2s 129ms/step - loss: 0.3909 - accuracy: 0.9040 - val_loss: 0.7565 - val_accuracy: 0.5333\n",
      "Epoch 20/20\n",
      "19/19 [==============================] - 2s 103ms/step - loss: 0.3302 - accuracy: 0.9343 - val_loss: 0.6182 - val_accuracy: 0.6000\n"
     ]
    },
    {
     "data": {
      "text/plain": [
       "<keras.callbacks.History at 0x20447c31dc0>"
      ]
     },
     "execution_count": 18,
     "metadata": {},
     "output_type": "execute_result"
    }
   ],
   "source": [
    "model.fit_generator(\n",
    "    generator=x_train, steps_per_epoch = len(x_train),\n",
    "    epochs=20, validation_data=x_test, validation_steps = len(x_test)) # No of images in test set"
   ]
  },
  {
   "cell_type": "code",
   "execution_count": 19,
   "id": "2104fb46",
   "metadata": {},
   "outputs": [],
   "source": [
    "model.save('gesture.h5')"
   ]
  },
  {
   "cell_type": "code",
   "execution_count": 3,
   "id": "ac035d50",
   "metadata": {},
   "outputs": [],
   "source": [
    "model_json = model.to_json()\n",
    "with open(\"model-bw.json\", \"w\") as json_file:\n",
    "    json_file.write(model_json)"
   ]
  },
  {
   "cell_type": "code",
   "execution_count": 2,
   "id": "c2fc8524",
   "metadata": {},
   "outputs": [],
   "source": [
    "import tensorflow as tf\n",
    "from tensorflow.keras.models import load_model \n",
    "from keras.preprocessing import image \n",
    "model = load_model(\"gesture.h5\") #Loading the model for testing ="
   ]
  },
  {
   "cell_type": "code",
   "execution_count": 6,
   "id": "b4523a58",
   "metadata": {},
   "outputs": [
    {
     "name": "stdout",
     "output_type": "stream",
     "text": [
      "1/1 [==============================] - 0s 186ms/step\n"
     ]
    },
    {
     "data": {
      "text/plain": [
       "array([[0, 0, 1, 0, 0, 0]], dtype=int64)"
      ]
     },
     "execution_count": 6,
     "metadata": {},
     "output_type": "execute_result"
    }
   ],
   "source": [
    "img = tf.keras.utils.load_img(r\"C:\\Users\\Sneha\\Desktop\\data set\\test\\1\\1.jpg\",grayscale=True, target_size= (64,64)) #Loading of the image\n",
    "x = tf.keras.utils.img_to_array(img)#image to array\n",
    "x = np.expand_dims (x,axis = 0) #changing the shape\n",
    "pred = (model.predict(x) > 0.5).astype(\"int64\")  #predicting the classes\n",
    "pred\n"
   ]
  },
  {
   "cell_type": "code",
   "execution_count": 2,
   "id": "52e4fd96",
   "metadata": {},
   "outputs": [
    {
     "ename": "NameError",
     "evalue": "name 'pred' is not defined",
     "output_type": "error",
     "traceback": [
      "\u001b[1;31m---------------------------------------------------------------------------\u001b[0m",
      "\u001b[1;31mNameError\u001b[0m                                 Traceback (most recent call last)",
      "\u001b[1;32m~\\AppData\\Local\\Temp\\ipykernel_12380\\2182446386.py\u001b[0m in \u001b[0;36m<module>\u001b[1;34m\u001b[0m\n\u001b[0;32m      1\u001b[0m \u001b[0mindex\u001b[0m\u001b[1;33m=\u001b[0m\u001b[1;33m[\u001b[0m\u001b[1;34m'0'\u001b[0m\u001b[1;33m,\u001b[0m \u001b[1;34m'1'\u001b[0m\u001b[1;33m,\u001b[0m \u001b[1;34m'2'\u001b[0m\u001b[1;33m,\u001b[0m \u001b[1;34m'3'\u001b[0m\u001b[1;33m,\u001b[0m \u001b[1;34m'4'\u001b[0m\u001b[1;33m,\u001b[0m \u001b[1;34m'5'\u001b[0m\u001b[1;33m]\u001b[0m\u001b[1;33m\u001b[0m\u001b[1;33m\u001b[0m\u001b[0m\n\u001b[1;32m----> 2\u001b[1;33m \u001b[0mresult\u001b[0m\u001b[1;33m=\u001b[0m\u001b[0mstr\u001b[0m\u001b[1;33m(\u001b[0m\u001b[0mindex\u001b[0m\u001b[1;33m[\u001b[0m\u001b[0mpred\u001b[0m\u001b[1;33m[\u001b[0m\u001b[1;36m0\u001b[0m\u001b[1;33m]\u001b[0m\u001b[1;33m]\u001b[0m\u001b[1;33m)\u001b[0m\u001b[1;33m\u001b[0m\u001b[1;33m\u001b[0m\u001b[0m\n\u001b[0m\u001b[0;32m      3\u001b[0m \u001b[0mresult\u001b[0m\u001b[1;33m\u001b[0m\u001b[1;33m\u001b[0m\u001b[0m\n",
      "\u001b[1;31mNameError\u001b[0m: name 'pred' is not defined"
     ]
    }
   ],
   "source": [
    "index=['0', '1', '2', '3', '4', '5']\n",
    "result=str(index[pred[0]])\n",
    "result"
   ]
  },
  {
   "cell_type": "raw",
   "id": "06eae1c2",
   "metadata": {},
   "source": []
  },
  {
   "cell_type": "code",
   "execution_count": null,
   "id": "716e8726",
   "metadata": {},
   "outputs": [],
   "source": []
  },
  {
   "cell_type": "code",
   "execution_count": null,
   "id": "ca3044a8",
   "metadata": {},
   "outputs": [],
   "source": []
  },
  {
   "cell_type": "code",
   "execution_count": null,
   "id": "cea2c487",
   "metadata": {},
   "outputs": [],
   "source": []
  },
  {
   "cell_type": "code",
   "execution_count": null,
   "id": "c1203d16",
   "metadata": {},
   "outputs": [],
   "source": []
  }
 ],
 "metadata": {
  "kernelspec": {
   "display_name": "Python 3 (ipykernel)",
   "language": "python",
   "name": "python3"
  },
  "language_info": {
   "codemirror_mode": {
    "name": "ipython",
    "version": 3
   },
   "file_extension": ".py",
   "mimetype": "text/x-python",
   "name": "python",
   "nbconvert_exporter": "python",
   "pygments_lexer": "ipython3",
   "version": "3.9.13"
  }
 },
 "nbformat": 4,
 "nbformat_minor": 5
}
